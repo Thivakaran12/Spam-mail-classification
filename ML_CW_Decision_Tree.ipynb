{
  "nbformat": 4,
  "nbformat_minor": 0,
  "metadata": {
    "colab": {
      "provenance": []
    },
    "kernelspec": {
      "name": "python3",
      "display_name": "Python 3"
    },
    "language_info": {
      "name": "python"
    }
  },
  "cells": [
    {
      "cell_type": "markdown",
      "source": [
        "Spam Mail Classification Using Decison Tree"
      ],
      "metadata": {
        "id": "ux65T2O2TrPy"
      }
    },
    {
      "cell_type": "code",
      "execution_count": 2,
      "metadata": {
        "id": "1OcKNPnxTiyM"
      },
      "outputs": [],
      "source": [
        "#Imorting neccessary libraries\n",
        "import numpy as np \n",
        "import pandas as pd\n",
        "\n",
        "from sklearn.model_selection import train_test_split\n",
        "from sklearn.tree import DecisionTreeClassifier\n",
        "from sklearn.metrics import accuracy_score\n",
        "from sklearn import tree"
      ]
    },
    {
      "cell_type": "code",
      "source": [
        "#Loading data fie\n",
        "dataset = pd.read_csv(\"/content/spambase.data\", delimiter=\",\", header = 0)"
      ],
      "metadata": {
        "id": "VfG6-lHp7p9r"
      },
      "execution_count": null,
      "outputs": []
    },
    {
      "cell_type": "code",
      "source": [
        "dataset.shape"
      ],
      "metadata": {
        "id": "0sK0Fuzo8var"
      },
      "execution_count": null,
      "outputs": []
    },
    {
      "cell_type": "code",
      "source": [
        "dataset.head()"
      ],
      "metadata": {
        "id": "-E-gK7qT9TCK"
      },
      "execution_count": null,
      "outputs": []
    },
    {
      "cell_type": "code",
      "source": [
        "#Seperating the Target variable\n",
        "X = dataset.iloc[:, [0, 57]].values\n",
        "y = dataset.iloc[:, 57].values"
      ],
      "metadata": {
        "id": "0p7nEZ8_9bUG"
      },
      "execution_count": 10,
      "outputs": []
    },
    {
      "cell_type": "code",
      "source": [
        "#split dataset into training and testing\n",
        "X_train, X_test, y_train, y_test = train_test_split(X, y, random_state = 100, test_size = 0.3)"
      ],
      "metadata": {
        "id": "6HLeb24J97i3"
      },
      "execution_count": 11,
      "outputs": []
    },
    {
      "cell_type": "code",
      "source": [
        "#function to perform training with entropy\n",
        "clf_entropy = DecisionTreeClassifier(criterion = 'entropy', random_state = 100, max_depth = 3, min_samples_leaf=5)\n",
        "clf_entropy.fit(X_train, y_train)"
      ],
      "metadata": {
        "id": "tzU0xjhQ-BFI"
      },
      "execution_count": null,
      "outputs": []
    },
    {
      "cell_type": "code",
      "source": [
        "#Predict the test set results\n",
        "y_pred = clf_entropy.predict(X_test)\n",
        "y_pred"
      ],
      "metadata": {
        "colab": {
          "base_uri": "https://localhost:8080/"
        },
        "id": "tcWXyS4W_lDD",
        "outputId": "76781587-1269-4fa2-a44b-765413f09436"
      },
      "execution_count": 13,
      "outputs": [
        {
          "output_type": "execute_result",
          "data": {
            "text/plain": [
              "array([0, 1, 1, ..., 1, 1, 0])"
            ]
          },
          "metadata": {},
          "execution_count": 13
        }
      ]
    },
    {
      "cell_type": "code",
      "source": [
        "#Checking the Accuracy\n",
        "ac = accuracy_score(y_test, y_pred)\n",
        "print(ac)"
      ],
      "metadata": {
        "id": "LZYaqXFH_8P8"
      },
      "execution_count": null,
      "outputs": []
    }
  ]
}