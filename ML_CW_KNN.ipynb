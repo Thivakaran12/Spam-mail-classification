{
  "nbformat": 4,
  "nbformat_minor": 0,
  "metadata": {
    "colab": {
      "provenance": []
    },
    "kernelspec": {
      "name": "python3",
      "display_name": "Python 3"
    },
    "language_info": {
      "name": "python"
    }
  },
  "cells": [
    {
      "cell_type": "markdown",
      "source": [
        "**Spam Mail Classification Using KNN**"
      ],
      "metadata": {
        "id": "FwomYFyR15o7"
      }
    },
    {
      "cell_type": "code",
      "source": [
        "# Importing the libraries\n",
        "import numpy as np\n",
        "import pandas as pd\n",
        "import matplotlib.pyplot as plt\n",
        "import seaborn as sns"
      ],
      "metadata": {
        "id": "-2zdvgSy2TOD"
      },
      "execution_count": 318,
      "outputs": []
    },
    {
      "cell_type": "code",
      "source": [
        "# Importing the dataset\n",
        "column_names = ['word_freq_make','word_freq_address','word_freq_all','word_freq_3d','word_freq_our','word_freq_over','word_freq_remove','word_freq_internet','word_freq_order','word_freq_mail','word_freq_receive','word_freq_will','word_freq_people','word_freq_report','word_freq_addresses','word_freq_free','word_freq_business','word_freq_email','word_freq_you','word_freq_credit','word_freq_your','word_freq_font','word_freq_000','word_freq_money','word_freq_hp','word_freq_hpl','word_freq_george','word_freq_650','word_freq_lab','word_freq_labs','word_freq_telnet','word_freq_857','word_freq_data','word_freq_415','word_freq_85','word_freq_technology','word_freq_1999','word_freq_parts','word_freq_pm','word_freq_direct','word_freq_cs','word_freq_meeting','word_freq_original','word_freq_project','word_freq_re','word_freq_edu','word_freq_table','word_freq_conference','char_freq_%3B','char_freq_%28','char_freq_%5B','char_freq_%21','char_freq_%24','char_freq_%23','capital_run_length_average','capital_run_length_longest','capital_run_length_total','class']\n",
        "dataset = pd.read_csv('/content/spambase.data', delimiter =',', header=None, names=column_names)"
      ],
      "metadata": {
        "id": "SzG11E8k2U_t"
      },
      "execution_count": 319,
      "outputs": []
    },
    {
      "cell_type": "markdown",
      "source": [
        "Understanding the data"
      ],
      "metadata": {
        "id": "va50zFvwFyHd"
      }
    },
    {
      "cell_type": "code",
      "source": [
        "dataset.head()"
      ],
      "metadata": {
        "id": "HBrEANkBBkZq"
      },
      "execution_count": null,
      "outputs": []
    },
    {
      "cell_type": "code",
      "source": [
        "dataset.shape"
      ],
      "metadata": {
        "id": "5UneKF7fB7k5"
      },
      "execution_count": null,
      "outputs": []
    },
    {
      "cell_type": "code",
      "source": [
        "dataset.describe()"
      ],
      "metadata": {
        "id": "spZDJ3f1k9jn"
      },
      "execution_count": null,
      "outputs": []
    },
    {
      "cell_type": "code",
      "source": [
        "dataset.columns"
      ],
      "metadata": {
        "id": "0-Si-_dDF2bF"
      },
      "execution_count": null,
      "outputs": []
    },
    {
      "cell_type": "code",
      "source": [
        "dataset['class'].value_counts()"
      ],
      "metadata": {
        "id": "7G_xFtbz6iB3"
      },
      "execution_count": null,
      "outputs": []
    },
    {
      "cell_type": "code",
      "source": [
        "dataset.nunique() #outputs the unique values"
      ],
      "metadata": {
        "id": "SSOyqFiUF4n0"
      },
      "execution_count": null,
      "outputs": []
    },
    {
      "cell_type": "markdown",
      "source": [
        "Cleaning the data"
      ],
      "metadata": {
        "id": "nyPALLvfF-6R"
      }
    },
    {
      "cell_type": "code",
      "source": [
        "#data cleaning\n",
        "dataset.dropna(inplace=True)\n",
        "dataset.isnull().sum()"
      ],
      "metadata": {
        "id": "Mu_x0GTiEM9_"
      },
      "execution_count": null,
      "outputs": []
    },
    {
      "cell_type": "markdown",
      "source": [
        "Data Preprocessing"
      ],
      "metadata": {
        "id": "EQi74u7E18YF"
      }
    },
    {
      "cell_type": "code",
      "source": [
        "#Split the dataset into feature set and target variable\n",
        "X = dataset.drop('class', axis = 'columns')\n",
        "y = dataset['class'].values"
      ],
      "metadata": {
        "id": "Avw8NyTnHtf8"
      },
      "execution_count": 327,
      "outputs": []
    },
    {
      "cell_type": "code",
      "source": [
        "print(X.shape)\n",
        "print(y.shape)"
      ],
      "metadata": {
        "id": "84hVOP4C8Jg8"
      },
      "execution_count": null,
      "outputs": []
    },
    {
      "cell_type": "markdown",
      "source": [
        "Standardize the features"
      ],
      "metadata": {
        "id": "hxP-YTzVORFA"
      }
    },
    {
      "cell_type": "code",
      "source": [
        "# Feature Scaling\n",
        "from sklearn.preprocessing import StandardScaler\n",
        "sc_X = StandardScaler()\n",
        "X_scaled = sc_X.fit_transform(X)"
      ],
      "metadata": {
        "id": "OK-quOeGH0mT"
      },
      "execution_count": 329,
      "outputs": []
    },
    {
      "cell_type": "code",
      "source": [
        "scaled_data = pd.DataFrame( data = X_scaled , columns =X.columns)"
      ],
      "metadata": {
        "id": "jffYOcUJH2X8"
      },
      "execution_count": 330,
      "outputs": []
    },
    {
      "cell_type": "code",
      "source": [
        "scaled_data.describe()"
      ],
      "metadata": {
        "id": "EUoVzYy7IxL7"
      },
      "execution_count": null,
      "outputs": []
    },
    {
      "cell_type": "markdown",
      "source": [
        "Relationship Anaysis"
      ],
      "metadata": {
        "id": "vFTGBIcBGF4O"
      }
    },
    {
      "cell_type": "code",
      "source": [
        "corelation = scaled_data.corr()"
      ],
      "metadata": {
        "id": "0hzFEhnxGFMN"
      },
      "execution_count": 332,
      "outputs": []
    },
    {
      "cell_type": "code",
      "source": [
        "plt.figure(figsize=(60,60))\n",
        "sns.heatmap(corelation, xticklabels=corelation.columns, yticklabels=corelation.columns, annot=True)"
      ],
      "metadata": {
        "id": "ZaVpcI7HGKas"
      },
      "execution_count": null,
      "outputs": []
    },
    {
      "cell_type": "markdown",
      "source": [
        "Applying PCA for scaled data"
      ],
      "metadata": {
        "id": "YIB6CQP0IAV3"
      }
    },
    {
      "cell_type": "code",
      "source": [
        "from sklearn.decomposition import PCA\n",
        "pca = PCA().fit(scaled_data)\n",
        "explained_var = pca.explained_variance_ratio_\n",
        "\n",
        "\n",
        "plt.plot(np.cumsum(explained_var))\n",
        "plt.xlabel('Number of components')\n",
        "plt.ylabel('Cumulative explained variance')\n",
        "plt.title('Cumulative explained variance ratio plot')\n",
        "plt.grid() \n",
        "plt.show()"
      ],
      "metadata": {
        "id": "_OpMaNcrnwam"
      },
      "execution_count": null,
      "outputs": []
    },
    {
      "cell_type": "code",
      "source": [
        "per_var = np.round(pca.explained_variance_ratio_ * 100, decimals=1)\n",
        "label = ['PC' + str(x) for x in range(1, len(per_var) + 1)]\n",
        "fig, ax = plt.subplots(figsize=(8, 6))\n",
        "ax.bar(x=range(1, len(per_var) + 1), height=per_var, tick_label=label, width=0.6)\n",
        "ax.set_ylabel(\"Percentage of explained variance\")\n",
        "ax.set_xlabel('Principal components')\n",
        "ax.set_title('Screen plot')\n",
        "ax.spines['top'].set_visible(False)\n",
        "ax.spines['right'].set_visible(False)\n",
        "plt.show()"
      ],
      "metadata": {
        "id": "mAYtDr3O2nGR"
      },
      "execution_count": null,
      "outputs": []
    },
    {
      "cell_type": "markdown",
      "source": [
        "Based on the screen plot, we can see that there is a significant drop in explained variance after the first 5 principal components.\n",
        "Therefore, we will select the first 4 principal components for modeling"
      ],
      "metadata": {
        "id": "6wxuJtFH7UO4"
      }
    },
    {
      "cell_type": "code",
      "source": [
        "# Perform PCA on the feature set\n",
        "pca = PCA(n_components = 4)\n",
        "X_pca = pca.fit_transform(X_scaled)"
      ],
      "metadata": {
        "id": "zgiaYqVmNMbc"
      },
      "execution_count": 352,
      "outputs": []
    },
    {
      "cell_type": "code",
      "source": [
        "print(X_scaled.shape)\n",
        "print(X_pca.shape)"
      ],
      "metadata": {
        "id": "bOcf2SIoe2iZ"
      },
      "execution_count": null,
      "outputs": []
    },
    {
      "cell_type": "markdown",
      "source": [
        "Creating a DataFrame for the principal components"
      ],
      "metadata": {
        "id": "3IHQ4bRgGqQi"
      }
    },
    {
      "cell_type": "code",
      "source": [
        "#This will be the new data fed to the algorithm.\n",
        "principal_df = pd.DataFrame(data = X_pca, columns = ['PC1', 'PC2', 'PC3', 'PC4'])\n",
        "principal_df.head()"
      ],
      "metadata": {
        "id": "TgKp23e0csSB"
      },
      "execution_count": null,
      "outputs": []
    },
    {
      "cell_type": "code",
      "source": [
        "y_df = pd.DataFrame(data=y, columns=['class'])\n",
        "final_df = pd.concat([principal_df, y_df], axis=1)"
      ],
      "metadata": {
        "id": "wflKZzlDG757"
      },
      "execution_count": 356,
      "outputs": []
    },
    {
      "cell_type": "markdown",
      "source": [
        "Visualizing the principal components using scatter plot"
      ],
      "metadata": {
        "id": "dvBJz6HhHEIb"
      }
    },
    {
      "cell_type": "code",
      "source": [
        "plt.figure(figsize=(8, 6))\n",
        "sns.scatterplot(data=final_df, x='PC1', y='PC2', hue='class', palette='Set2')\n",
        "plt.title('Principal Components Scatter Plot')\n",
        "plt.show()"
      ],
      "metadata": {
        "id": "6ZLfEzhvHErx"
      },
      "execution_count": null,
      "outputs": []
    },
    {
      "cell_type": "code",
      "source": [
        "plt.figure()\n",
        "plt.plot(np.cumsum(pca.explained_variance_ratio_))\n",
        "plt.xlabel('Number of Components')\n",
        "plt.ylabel('Variance (%)') #for each component\n",
        "plt.title('Explained Variance')\n",
        "plt.show()"
      ],
      "metadata": {
        "id": "qyQ3qG_Y7t1L"
      },
      "execution_count": null,
      "outputs": []
    },
    {
      "cell_type": "code",
      "source": [
        "per_var =np.round(pca.explained_variance_ratio_ * 100 , decimals=1)\n",
        "label = ['PC' + str(x) for x in range(1,len(per_var) + 1 )]\n",
        "plt.bar(x=range(1,len(per_var)+1),height = per_var , tick_label = label)\n",
        "plt.ylabel(\"percentage of explained variance\")\n",
        "plt.xlabel('principal components')\n",
        "plt.title('scree plot')"
      ],
      "metadata": {
        "id": "cknbrqLa4luW"
      },
      "execution_count": null,
      "outputs": []
    },
    {
      "cell_type": "markdown",
      "source": [
        "Model Building"
      ],
      "metadata": {
        "id": "XrsE6jHj5drE"
      }
    },
    {
      "cell_type": "code",
      "source": [
        "#Define the Model\n",
        "from sklearn.neighbors import KNeighborsClassifier\n",
        "model = KNeighborsClassifier(n_neighbors=5, p=2, metric='euclidean')"
      ],
      "metadata": {
        "id": "xKc53FHl5W4x"
      },
      "execution_count": 360,
      "outputs": []
    },
    {
      "cell_type": "code",
      "source": [
        "#split dataset into training and testing\n",
        "from sklearn.model_selection import train_test_split\n",
        "X_train, X_test, y_train, y_test = train_test_split(X_pca, y, random_state=0, test_size=0.2)"
      ],
      "metadata": {
        "id": "9Iokvp25M0Uq"
      },
      "execution_count": 361,
      "outputs": []
    },
    {
      "cell_type": "code",
      "source": [
        "# Fit the Model\n",
        "model.fit(X_train,y_train)"
      ],
      "metadata": {
        "id": "WZUHtQA1_h57"
      },
      "execution_count": null,
      "outputs": []
    },
    {
      "cell_type": "code",
      "source": [
        "#Predict the test set results\n",
        "y_pred = model.predict(X_test)\n",
        "y_pred"
      ],
      "metadata": {
        "id": "kwsA4FgNAmoa"
      },
      "execution_count": null,
      "outputs": []
    },
    {
      "cell_type": "markdown",
      "source": [
        "Evaluate Model "
      ],
      "metadata": {
        "id": "RPRAycqpwYix"
      }
    },
    {
      "cell_type": "code",
      "source": [
        "#Confusion Matrix\n",
        "from sklearn.metrics import confusion_matrix\n",
        "cm = confusion_matrix(y_test, y_pred, normalize='true')\n",
        "print(\"Confusion Matrix:\\n\",cm)"
      ],
      "metadata": {
        "id": "9mOxpOUPAA_i"
      },
      "execution_count": null,
      "outputs": []
    },
    {
      "cell_type": "code",
      "source": [
        "#Visualization of the confusion matrix \n",
        "sns.heatmap(cm, annot=True, cmap='Blues')\n",
        "plt.title('Confusion Matrix')\n",
        "plt.xlabel('Predicted')\n",
        "plt.ylabel('Actual')\n",
        "plt.show()\n"
      ],
      "metadata": {
        "id": "rrlhxnA_iG7I"
      },
      "execution_count": null,
      "outputs": []
    },
    {
      "cell_type": "code",
      "source": [
        "#Checking the f1 score\n",
        "from sklearn.metrics import f1_score\n",
        "f1 = f1_score(y_test, y_pred)\n",
        "print(f1)"
      ],
      "metadata": {
        "id": "viDIoOcIBFFF"
      },
      "execution_count": null,
      "outputs": []
    },
    {
      "cell_type": "code",
      "source": [
        "#Checking the Accuracy\n",
        "from sklearn.metrics import accuracy_score\n",
        "ac = accuracy_score(y_test, y_pred)\n",
        "print(ac)"
      ],
      "metadata": {
        "id": "BVh-0lcSAbKw"
      },
      "execution_count": null,
      "outputs": []
    },
    {
      "cell_type": "code",
      "source": [
        "from sklearn.metrics import classification_report\n",
        "class_rep = classification_report(y_test,y_pred)\n",
        "print(\"Classification Report:\\n\",class_rep)"
      ],
      "metadata": {
        "id": "iwMHGsm9pbxT"
      },
      "execution_count": null,
      "outputs": []
    }
  ]
}